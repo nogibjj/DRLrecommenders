{
 "cells": [
  {
   "cell_type": "markdown",
   "metadata": {
    "id": "VavSUus-Tgnw"
   },
   "source": [
    "# **Bayesian Personalized Ranking (BPR) Recommender on RetailRocket Data**\n",
    "\n",
    "Authored by: Preet Khowaja\n",
    "\n",
    "In this notebook we train a BPR model to recomend a ranked list of items to users in the dataset. We are using RetailRocket's e-commerce data to train this model. \n",
    "\n",
    "The BPR implementation used is from the cornac package in Python.:"
   ]
  },
  {
   "cell_type": "code",
   "execution_count": 1,
   "metadata": {
    "executionInfo": {
     "elapsed": 927,
     "status": "ok",
     "timestamp": 1670752737872,
     "user": {
      "displayName": "Preet Khowaja",
      "userId": "04600554328603896026"
     },
     "user_tz": -300
    },
    "id": "gpxgmYa1TbHS"
   },
   "outputs": [],
   "source": [
    "# Install dependencies\n",
    "# AD NOTE: recommenders only work on Python 3.9 or lower and cornac if stuck can be installed through conda\n",
    "\n",
    "# !pip install cornac\n",
    "# !pip install papermill\n",
    "# !pip install scrapbook\n",
    "# !pip install recommenders \n"
   ]
  },
  {
   "cell_type": "code",
   "execution_count": 2,
   "metadata": {
    "colab": {
     "base_uri": "https://localhost:8080/"
    },
    "executionInfo": {
     "elapsed": 12,
     "status": "ok",
     "timestamp": 1670752739057,
     "user": {
      "displayName": "Preet Khowaja",
      "userId": "04600554328603896026"
     },
     "user_tz": -300
    },
    "id": "NAar6zU9B71G",
    "outputId": "45a1c1c9-0076-4659-9f73-dd96cae24af4"
   },
   "outputs": [
    {
     "name": "stdout",
     "output_type": "stream",
     "text": [
      "System version: 3.9.7 | packaged by conda-forge | (default, Sep 29 2021, 19:20:46) \n",
      "[GCC 9.4.0]\n",
      "Cornac version: 1.14.2\n"
     ]
    }
   ],
   "source": [
    "## Import required packages\n",
    "import sys\n",
    "import os\n",
    "import cornac\n",
    "import papermill as pm\n",
    "import scrapbook as sb\n",
    "import pandas as pd\n",
    "import numpy as np\n",
    "import time\n",
    "# import pyspark\n",
    "\n",
    "from recommenders.datasets.python_splitters import python_random_split\n",
    "from recommenders.evaluation.python_evaluation import map_at_k, ndcg_at_k, precision_at_k, recall_at_k\n",
    "from recommenders.models.cornac.cornac_utils import predict_ranking\n",
    "from recommenders.utils.timer import Timer\n",
    "from recommenders.utils.constants import SEED\n",
    "\n",
    "## check what version of cornac is available\n",
    "print(\"System version: {}\".format(sys.version))\n",
    "print(\"Cornac version: {}\".format(cornac.__version__))"
   ]
  },
  {
   "cell_type": "markdown",
   "metadata": {
    "id": "1uZmGh8csWBj"
   },
   "source": [
    "## Loading RetailRocket Data\n",
    "\n",
    "1. Mount this notebook to Google Drive\n",
    "\n",
    "2. Save the **zipped** events.csv file to somewhere in your drive from the RetailRocket data available [here](https://www.kaggle.com/datasets/retailrocket/ecommerce-dataset)\n",
    "\n",
    "3. Change the command below to reflect the path where your zipped file is saved. It will unzip the file so it is only available during run-time"
   ]
  },
  {
   "cell_type": "code",
   "execution_count": 3,
   "metadata": {},
   "outputs": [],
   "source": [
    "# empty cache\n",
    "!rm -rf /tmp/cornac"
   ]
  },
  {
   "cell_type": "code",
   "execution_count": 4,
   "metadata": {
    "executionInfo": {
     "elapsed": 8,
     "status": "ok",
     "timestamp": 1670752739057,
     "user": {
      "displayName": "Preet Khowaja",
      "userId": "04600554328603896026"
     },
     "user_tz": -300
    },
    "id": "6CEdlq_oa3HQ"
   },
   "outputs": [],
   "source": [
    "## Unzip events file of Retail Rocket and store in local directory\n",
    "# !unzip drive/My\\ Drive/aipi/final_project/RR_events.csv.zip"
   ]
  },
  {
   "cell_type": "code",
   "execution_count": 5,
   "metadata": {},
   "outputs": [],
   "source": [
    "MOVE_DIR = True\n",
    "if MOVE_DIR:\n",
    "    DATA_PATH = \"../data/RetailRocket/\"\n",
    "else:\n",
    "    DATA_PATH = \"\""
   ]
  },
  {
   "cell_type": "code",
   "execution_count": 6,
   "metadata": {
    "colab": {
     "base_uri": "https://localhost:8080/",
     "height": 206
    },
    "executionInfo": {
     "elapsed": 8,
     "status": "ok",
     "timestamp": 1670752739058,
     "user": {
      "displayName": "Preet Khowaja",
      "userId": "04600554328603896026"
     },
     "user_tz": -300
    },
    "id": "BcZ16IrNhLHj",
    "outputId": "38dd33c3-27af-455c-9ef4-e0af0e7714e7"
   },
   "outputs": [
    {
     "data": {
      "text/html": [
       "<div>\n",
       "<style scoped>\n",
       "    .dataframe tbody tr th:only-of-type {\n",
       "        vertical-align: middle;\n",
       "    }\n",
       "\n",
       "    .dataframe tbody tr th {\n",
       "        vertical-align: top;\n",
       "    }\n",
       "\n",
       "    .dataframe thead th {\n",
       "        text-align: right;\n",
       "    }\n",
       "</style>\n",
       "<table border=\"1\" class=\"dataframe\">\n",
       "  <thead>\n",
       "    <tr style=\"text-align: right;\">\n",
       "      <th></th>\n",
       "      <th>timestamp</th>\n",
       "      <th>visitorid</th>\n",
       "      <th>event</th>\n",
       "      <th>itemid</th>\n",
       "      <th>transactionid</th>\n",
       "    </tr>\n",
       "  </thead>\n",
       "  <tbody>\n",
       "    <tr>\n",
       "      <th>0</th>\n",
       "      <td>1433221332117</td>\n",
       "      <td>257597</td>\n",
       "      <td>view</td>\n",
       "      <td>355908</td>\n",
       "      <td>NaN</td>\n",
       "    </tr>\n",
       "    <tr>\n",
       "      <th>1</th>\n",
       "      <td>1433224214164</td>\n",
       "      <td>992329</td>\n",
       "      <td>view</td>\n",
       "      <td>248676</td>\n",
       "      <td>NaN</td>\n",
       "    </tr>\n",
       "    <tr>\n",
       "      <th>2</th>\n",
       "      <td>1433221999827</td>\n",
       "      <td>111016</td>\n",
       "      <td>view</td>\n",
       "      <td>318965</td>\n",
       "      <td>NaN</td>\n",
       "    </tr>\n",
       "    <tr>\n",
       "      <th>3</th>\n",
       "      <td>1433221955914</td>\n",
       "      <td>483717</td>\n",
       "      <td>view</td>\n",
       "      <td>253185</td>\n",
       "      <td>NaN</td>\n",
       "    </tr>\n",
       "    <tr>\n",
       "      <th>4</th>\n",
       "      <td>1433221337106</td>\n",
       "      <td>951259</td>\n",
       "      <td>view</td>\n",
       "      <td>367447</td>\n",
       "      <td>NaN</td>\n",
       "    </tr>\n",
       "  </tbody>\n",
       "</table>\n",
       "</div>"
      ],
      "text/plain": [
       "       timestamp  visitorid event  itemid  transactionid\n",
       "0  1433221332117     257597  view  355908            NaN\n",
       "1  1433224214164     992329  view  248676            NaN\n",
       "2  1433221999827     111016  view  318965            NaN\n",
       "3  1433221955914     483717  view  253185            NaN\n",
       "4  1433221337106     951259  view  367447            NaN"
      ]
     },
     "execution_count": 6,
     "metadata": {},
     "output_type": "execute_result"
    }
   ],
   "source": [
    "## Read the dataset\n",
    "df = pd.read_csv(DATA_PATH + 'events.csv')\n",
    "df.head()"
   ]
  },
  {
   "cell_type": "code",
   "execution_count": 7,
   "metadata": {
    "colab": {
     "base_uri": "https://localhost:8080/"
    },
    "executionInfo": {
     "elapsed": 17,
     "status": "ok",
     "timestamp": 1670752739762,
     "user": {
      "displayName": "Preet Khowaja",
      "userId": "04600554328603896026"
     },
     "user_tz": -300
    },
    "id": "mYdTztGEciRR",
    "outputId": "051cb940-6963-4222-c0b4-45ebb3f2d4c4"
   },
   "outputs": [
    {
     "data": {
      "text/plain": [
       "view           2664312\n",
       "addtocart        69332\n",
       "transaction      22457\n",
       "Name: event, dtype: int64"
      ]
     },
     "execution_count": 7,
     "metadata": {},
     "output_type": "execute_result"
    }
   ],
   "source": [
    "## The event column shows us the feedback between user and item pairings in the dataset\n",
    "df.event.value_counts()"
   ]
  },
  {
   "cell_type": "code",
   "execution_count": 8,
   "metadata": {
    "executionInfo": {
     "elapsed": 14,
     "status": "ok",
     "timestamp": 1670752739763,
     "user": {
      "displayName": "Preet Khowaja",
      "userId": "04600554328603896026"
     },
     "user_tz": -300
    },
    "id": "MEK2lL4roV4z"
   },
   "outputs": [],
   "source": [
    "# ## Take a random sample from the full data because it's massive\n",
    "# df = df.sample(n=5000, random_state=45)\n",
    "df = df.sample(frac=0.01, random_state=45)"
   ]
  },
  {
   "cell_type": "markdown",
   "metadata": {
    "id": "gtbXvGrstqaZ"
   },
   "source": [
    "## Adding Ranking information to run BPR\n",
    "\n",
    "BPR relies on some type of ranking for each user-item pair. Here we assume that if a user interacted with an item, the item is ranked as 1. Otherwise, it is ranked as 0. In our dataset we only have positive feedback available, so we generate the negative feedback."
   ]
  },
  {
   "cell_type": "code",
   "execution_count": 9,
   "metadata": {
    "executionInfo": {
     "elapsed": 13,
     "status": "ok",
     "timestamp": 1670752739763,
     "user": {
      "displayName": "Preet Khowaja",
      "userId": "04600554328603896026"
     },
     "user_tz": -300
    },
    "id": "iIXXWc7yco9A"
   },
   "outputs": [],
   "source": [
    "## Assign a score of 1 to user-item interactions that are available\n",
    "rr_data = df[['visitorid', 'itemid']].copy()\n",
    "rr_data['Feedback'] = 1\n",
    "rr_data = rr_data.drop_duplicates()"
   ]
  },
  {
   "cell_type": "code",
   "execution_count": 10,
   "metadata": {
    "colab": {
     "base_uri": "https://localhost:8080/",
     "height": 206
    },
    "executionInfo": {
     "elapsed": 13,
     "status": "ok",
     "timestamp": 1670752739764,
     "user": {
      "displayName": "Preet Khowaja",
      "userId": "04600554328603896026"
     },
     "user_tz": -300
    },
    "id": "upzvOv1anUWB",
    "outputId": "c4756109-bcba-4c1c-97b8-57ba5c205072"
   },
   "outputs": [
    {
     "data": {
      "text/html": [
       "<div>\n",
       "<style scoped>\n",
       "    .dataframe tbody tr th:only-of-type {\n",
       "        vertical-align: middle;\n",
       "    }\n",
       "\n",
       "    .dataframe tbody tr th {\n",
       "        vertical-align: top;\n",
       "    }\n",
       "\n",
       "    .dataframe thead th {\n",
       "        text-align: right;\n",
       "    }\n",
       "</style>\n",
       "<table border=\"1\" class=\"dataframe\">\n",
       "  <thead>\n",
       "    <tr style=\"text-align: right;\">\n",
       "      <th></th>\n",
       "      <th>visitorid</th>\n",
       "      <th>itemid</th>\n",
       "      <th>Feedback</th>\n",
       "    </tr>\n",
       "  </thead>\n",
       "  <tbody>\n",
       "    <tr>\n",
       "      <th>2519133</th>\n",
       "      <td>961663</td>\n",
       "      <td>27127</td>\n",
       "      <td>1</td>\n",
       "    </tr>\n",
       "    <tr>\n",
       "      <th>2052038</th>\n",
       "      <td>1206986</td>\n",
       "      <td>435421</td>\n",
       "      <td>1</td>\n",
       "    </tr>\n",
       "    <tr>\n",
       "      <th>522082</th>\n",
       "      <td>437200</td>\n",
       "      <td>170460</td>\n",
       "      <td>1</td>\n",
       "    </tr>\n",
       "    <tr>\n",
       "      <th>2496162</th>\n",
       "      <td>731484</td>\n",
       "      <td>26210</td>\n",
       "      <td>1</td>\n",
       "    </tr>\n",
       "    <tr>\n",
       "      <th>2241508</th>\n",
       "      <td>1011436</td>\n",
       "      <td>401802</td>\n",
       "      <td>1</td>\n",
       "    </tr>\n",
       "  </tbody>\n",
       "</table>\n",
       "</div>"
      ],
      "text/plain": [
       "         visitorid  itemid  Feedback\n",
       "2519133     961663   27127         1\n",
       "2052038    1206986  435421         1\n",
       "522082      437200  170460         1\n",
       "2496162     731484   26210         1\n",
       "2241508    1011436  401802         1"
      ]
     },
     "execution_count": 10,
     "metadata": {},
     "output_type": "execute_result"
    }
   ],
   "source": [
    "rr_data.head()"
   ]
  },
  {
   "cell_type": "code",
   "execution_count": 11,
   "metadata": {
    "executionInfo": {
     "elapsed": 7,
     "status": "ok",
     "timestamp": 1670752739764,
     "user": {
      "displayName": "Preet Khowaja",
      "userId": "04600554328603896026"
     },
     "user_tz": -300
    },
    "id": "U8EVKsYwpODa"
   },
   "outputs": [],
   "source": [
    "# Rename the columns for consistency \n",
    "rr_data.rename(columns = {'visitorid': 'userID', 'itemid': 'itemID', 'Feedback': 'rating'}, inplace = True)"
   ]
  },
  {
   "cell_type": "code",
   "execution_count": 12,
   "metadata": {},
   "outputs": [
    {
     "name": "stdout",
     "output_type": "stream",
     "text": [
      "<class 'pandas.core.frame.DataFrame'>\n",
      "Int64Index: 27372 entries, 2519133 to 1925152\n",
      "Data columns (total 3 columns):\n",
      " #   Column  Non-Null Count  Dtype\n",
      "---  ------  --------------  -----\n",
      " 0   userID  27372 non-null  int64\n",
      " 1   itemID  27372 non-null  int64\n",
      " 2   rating  27372 non-null  int64\n",
      "dtypes: int64(3)\n",
      "memory usage: 855.4 KB\n"
     ]
    }
   ],
   "source": [
    "# check size of df in memory\n",
    "rr_data.info()\n"
   ]
  },
  {
   "cell_type": "code",
   "execution_count": 13,
   "metadata": {},
   "outputs": [
    {
     "data": {
      "text/plain": [
       "userID    25638\n",
       "itemID    19903\n",
       "rating        1\n",
       "dtype: int64"
      ]
     },
     "execution_count": 13,
     "metadata": {},
     "output_type": "execute_result"
    }
   ],
   "source": [
    "rr_data.nunique()"
   ]
  },
  {
   "cell_type": "code",
   "execution_count": 14,
   "metadata": {},
   "outputs": [],
   "source": [
    "# quantize to int8\n",
    "rr_data = rr_data.astype({'userID': 'int32', 'itemID': 'int32', 'rating': 'int8'})"
   ]
  },
  {
   "cell_type": "code",
   "execution_count": 15,
   "metadata": {},
   "outputs": [
    {
     "name": "stdout",
     "output_type": "stream",
     "text": [
      "<class 'pandas.core.frame.DataFrame'>\n",
      "Int64Index: 27372 entries, 2519133 to 1925152\n",
      "Data columns (total 3 columns):\n",
      " #   Column  Non-Null Count  Dtype\n",
      "---  ------  --------------  -----\n",
      " 0   userID  27372 non-null  int32\n",
      " 1   itemID  27372 non-null  int32\n",
      " 2   rating  27372 non-null  int8 \n",
      "dtypes: int32(2), int8(1)\n",
      "memory usage: 454.4 KB\n"
     ]
    }
   ],
   "source": [
    "rr_data.info()"
   ]
  },
  {
   "cell_type": "code",
   "execution_count": 16,
   "metadata": {},
   "outputs": [],
   "source": [
    "# assert userID and itemID are not negative\n",
    "assert rr_data.userID.min() >= 0\n",
    "assert rr_data.itemID.min() >= 0"
   ]
  },
  {
   "cell_type": "code",
   "execution_count": 17,
   "metadata": {
    "executionInfo": {
     "elapsed": 7,
     "status": "ok",
     "timestamp": 1670752739764,
     "user": {
      "displayName": "Preet Khowaja",
      "userId": "04600554328603896026"
     },
     "user_tz": -300
    },
    "id": "tk-34GfKnZhn"
   },
   "outputs": [
    {
     "name": "stdout",
     "output_type": "stream",
     "text": [
      "unique users:  25638\n",
      "unique items:  19903\n"
     ]
    }
   ],
   "source": [
    "## Create a list of unique users and unique items from our sample\n",
    "users = np.array(rr_data['userID'].unique())\n",
    "items = np.array(rr_data['itemID'].unique())\n",
    "print(\"unique users: \", len(users))\n",
    "print(\"unique items: \", len(items))\n"
   ]
  },
  {
   "cell_type": "markdown",
   "metadata": {},
   "source": [
    "### AD edit \n",
    "The below operation was too slow so I used a meshgrid to generate the negative feedback. "
   ]
  },
  {
   "cell_type": "code",
   "execution_count": 19,
   "metadata": {},
   "outputs": [
    {
     "name": "stdout",
     "output_type": "stream",
     "text": [
      "Time to create df:  12.160481452941895\n"
     ]
    }
   ],
   "source": [
    "import time\n",
    "tac = time.time()\n",
    "\n",
    "# create df for all user-item pairs using meshgrid\n",
    "rr_data_all = pd.DataFrame(np.array(np.meshgrid(users, items)).T.reshape(-1,2), columns=['userID', 'itemID'])\n",
    "\n",
    "tic = time.time()\n",
    "print(\"Time to create df: \", tic - tac)\n"
   ]
  },
  {
   "cell_type": "code",
   "execution_count": 20,
   "metadata": {},
   "outputs": [
    {
     "name": "stdout",
     "output_type": "stream",
     "text": [
      "<class 'pandas.core.frame.DataFrame'>\n",
      "RangeIndex: 510273114 entries, 0 to 510273113\n",
      "Data columns (total 2 columns):\n",
      " #   Column  Dtype\n",
      "---  ------  -----\n",
      " 0   userID  int32\n",
      " 1   itemID  int32\n",
      "dtypes: int32(2)\n",
      "memory usage: 3.8 GB\n"
     ]
    }
   ],
   "source": [
    "rr_data_all.info()"
   ]
  },
  {
   "cell_type": "code",
   "execution_count": 115,
   "metadata": {},
   "outputs": [],
   "source": [
    "# ## Adding negative feedback for interactions not present\n",
    "# interaction_lst = set()\n",
    "# for user in users:\n",
    "#     for item in items:\n",
    "#         interaction_lst.add((user, item))\n",
    "\n",
    "# ## Dataframe created for all negative feedback, i.e. where user has not interacted with the item\n",
    "# rr_data_all = pd.DataFrame(data=interaction_lst, columns=[\"userID\", \"itemID\", \"rating\"])"
   ]
  },
  {
   "cell_type": "code",
   "execution_count": 38,
   "metadata": {
    "executionInfo": {
     "elapsed": 4484,
     "status": "ok",
     "timestamp": 1670752775634,
     "user": {
      "displayName": "Preet Khowaja",
      "userId": "04600554328603896026"
     },
     "user_tz": -300
    },
    "id": "AI9Cu5lwouSW"
   },
   "outputs": [],
   "source": [
    "# Merge the datasets with positive and negative feedback\n",
    "# rr_feedback = pd.merge(rr_data_all, rr_data, on=['userID', 'itemID'], how='outer').fillna(0)#.drop('rating_x', axis = 1)"
   ]
  },
  {
   "cell_type": "code",
   "execution_count": 39,
   "metadata": {},
   "outputs": [],
   "source": [
    "# rr_feedback.head()"
   ]
  },
  {
   "cell_type": "code",
   "execution_count": 40,
   "metadata": {
    "executionInfo": {
     "elapsed": 22,
     "status": "ok",
     "timestamp": 1670752775635,
     "user": {
      "displayName": "Preet Khowaja",
      "userId": "04600554328603896026"
     },
     "user_tz": -300
    },
    "id": "pnrUD0G-p7h1"
   },
   "outputs": [],
   "source": [
    "# # Cleaning up the column names\n",
    "# rr_feedback.rename(columns = {'rating_y': 'rating'}, inplace = True)"
   ]
  },
  {
   "cell_type": "markdown",
   "metadata": {},
   "source": [
    "### AD edit\n",
    "Attempt to use PySpark for more efficient processing but does not help in our case because it seems more a memory constraint. Larger sample % still crash even with PySpark"
   ]
  },
  {
   "cell_type": "code",
   "execution_count": 31,
   "metadata": {},
   "outputs": [],
   "source": [
    "# # Pandas take\n",
    "# spark = pyspark.sql.SparkSession.builder.getOrCreate()\n",
    "# rr_data_spark = spark.createDataFrame(rr_data)\n",
    "# rr_data_all_spark = spark.createDataFrame(rr_data_all)\n",
    "# rr_feedback_spark = rr_data_all_spark.join(rr_data_spark, on=['userID', 'itemID'], how='outer').fillna(0)"
   ]
  },
  {
   "cell_type": "code",
   "execution_count": 21,
   "metadata": {},
   "outputs": [
    {
     "name": "stdout",
     "output_type": "stream",
     "text": [
      "Time to create df:  149.82053327560425\n"
     ]
    }
   ],
   "source": [
    "import time\n",
    "tac = time.time()\n",
    "\n",
    "# merge in to get 0s for negative feedback and 1 for positive\n",
    "rr_feedback = rr_data_all.merge(rr_data, how='left', on=['userID', 'itemID']).fillna(0)\n",
    "\n",
    "tic = time.time()\n",
    "print(\"Time to create df: \", tic - tac)"
   ]
  },
  {
   "cell_type": "code",
   "execution_count": 22,
   "metadata": {
    "colab": {
     "base_uri": "https://localhost:8080/"
    },
    "executionInfo": {
     "elapsed": 20,
     "status": "ok",
     "timestamp": 1670752775635,
     "user": {
      "displayName": "Preet Khowaja",
      "userId": "04600554328603896026"
     },
     "user_tz": -300
    },
    "id": "vq4LhYXpqVY7",
    "outputId": "88e16462-896d-46f1-f334-6d80fda21033"
   },
   "outputs": [
    {
     "data": {
      "text/plain": [
       "0.0    510245742\n",
       "1.0        27372\n",
       "Name: rating, dtype: int64"
      ]
     },
     "execution_count": 22,
     "metadata": {},
     "output_type": "execute_result"
    }
   ],
   "source": [
    "# Check how many positive and negative feedback signals we have\n",
    "# We should have more 0's because the users interact with fewer items \n",
    "rr_feedback['rating'].value_counts()"
   ]
  },
  {
   "cell_type": "code",
   "execution_count": 27,
   "metadata": {},
   "outputs": [
    {
     "name": "stdout",
     "output_type": "stream",
     "text": [
      "<class 'pandas.core.frame.DataFrame'>\n",
      "Int64Index: 510273114 entries, 0 to 510273113\n",
      "Data columns (total 3 columns):\n",
      " #   Column  Dtype\n",
      "---  ------  -----\n",
      " 0   userID  int32\n",
      " 1   itemID  int32\n",
      " 2   rating  int8 \n",
      "dtypes: int32(2), int8(1)\n",
      "memory usage: 8.1 GB\n"
     ]
    }
   ],
   "source": [
    "# quantize to save more space\n",
    "rr_feedback[\"rating\"] = rr_feedback[\"rating\"].astype(\"int8\")\n",
    "rr_feedback.info()"
   ]
  },
  {
   "cell_type": "code",
   "execution_count": null,
   "metadata": {},
   "outputs": [],
   "source": [
    "# save to csv\n",
    "rr_feedback.to_csv(DATA_PATH + 'rr_feedback.csv', index=False)"
   ]
  },
  {
   "cell_type": "code",
   "execution_count": 31,
   "metadata": {
    "executionInfo": {
     "elapsed": 4383,
     "status": "ok",
     "timestamp": 1670752780004,
     "user": {
      "displayName": "Preet Khowaja",
      "userId": "04600554328603896026"
     },
     "user_tz": -300
    },
    "id": "7D231L77iP3x"
   },
   "outputs": [
    {
     "name": "stdout",
     "output_type": "stream",
     "text": [
      "Time to split data:  84.4265558719635\n"
     ]
    }
   ],
   "source": [
    "import time\n",
    "tac = time.time()\n",
    "\n",
    "# Split data into training and testing\n",
    "train_rr, test_rr = python_random_split(rr_feedback, 0.7)\n",
    "\n",
    "tic = time.time()\n",
    "print(\"Time to split data: \", tic - tac)"
   ]
  },
  {
   "cell_type": "markdown",
   "metadata": {
    "id": "EE1OPgEvMJas"
   },
   "source": [
    "Initiate BPR Model and Train on Dataset"
   ]
  },
  {
   "cell_type": "code",
   "execution_count": 32,
   "metadata": {
    "executionInfo": {
     "elapsed": 5,
     "status": "ok",
     "timestamp": 1670752780005,
     "user": {
      "displayName": "Preet Khowaja",
      "userId": "04600554328603896026"
     },
     "user_tz": -300
    },
    "id": "Mk6oBHeoijjn"
   },
   "outputs": [],
   "source": [
    "## Initiating a BPR model \n",
    "bpr = cornac.models.BPR(\n",
    "    k=20,\n",
    "    max_iter=30,\n",
    "    learning_rate=0.01,\n",
    "    lambda_reg=0.001,\n",
    "    verbose=True,\n",
    "    seed=43\n",
    ")"
   ]
  },
  {
   "cell_type": "markdown",
   "metadata": {
    "id": "qkmGkyUrvZeD"
   },
   "source": [
    "The next cell takes about 50 seconds to run and a little bit of RAM for sample of n=5000"
   ]
  },
  {
   "cell_type": "code",
   "execution_count": 33,
   "metadata": {
    "colab": {
     "base_uri": "https://localhost:8080/"
    },
    "executionInfo": {
     "elapsed": 47348,
     "status": "ok",
     "timestamp": 1670752827349,
     "user": {
      "displayName": "Preet Khowaja",
      "userId": "04600554328603896026"
     },
     "user_tz": -300
    },
    "id": "HIWs9bAVjXP9",
    "outputId": "bcab19ad-87c7-4990-a008-09f993324387"
   },
   "outputs": [
    {
     "name": "stdout",
     "output_type": "stream",
     "text": [
      "Number of users: 25638\n",
      "Number of items: 19903\n",
      "Time to build dataset:  1308.0650367736816\n"
     ]
    }
   ],
   "source": [
    "import time\n",
    "tac = time.time()\n",
    "\n",
    "train_set_rr = cornac.data.Dataset.from_uir(train_rr.itertuples(index=False), seed=4747)\n",
    "print('Number of users: {}'.format(train_set_rr.num_users))\n",
    "print('Number of items: {}'.format(train_set_rr.num_items))\n",
    "\n",
    "tic = time.time()\n",
    "print(\"Time to build dataset: \", tic - tac)"
   ]
  },
  {
   "cell_type": "code",
   "execution_count": 34,
   "metadata": {
    "colab": {
     "base_uri": "https://localhost:8080/",
     "height": 85,
     "referenced_widgets": [
      "04409bf2bfb74298bf0ba1d66d5101db",
      "6cebbbd4a7b1404a81046df509e41ba5",
      "0b865744fe124a929ef5225c2ca5213d",
      "75e9e1aaf04e43a3a21c2fd3cae4be62",
      "f633bd90aebf483d92bb42b618c59977",
      "bb016e6415984d708f03a22a72b54a61",
      "c868bd7afaeb4574a2183be9c5881586",
      "c9397b526c4d4b5bb2fcca57b0b76db8",
      "dba779a98fda461e9b54f3fc248b2697",
      "a5c4fd67d55941d7ae5aa0a0e4303488",
      "9404d4c68be540bd85d41e16add02c75"
     ]
    },
    "executionInfo": {
     "elapsed": 247797,
     "status": "ok",
     "timestamp": 1670753075126,
     "user": {
      "displayName": "Preet Khowaja",
      "userId": "04600554328603896026"
     },
     "user_tz": -300
    },
    "id": "T3SW2k0Ui4ci",
    "outputId": "e0045658-3b15-4da6-dc1f-1b587337f998"
   },
   "outputs": [
    {
     "data": {
      "application/vnd.jupyter.widget-view+json": {
       "model_id": "fbb0a05ef28f467199cd975340ba6176",
       "version_major": 2,
       "version_minor": 0
      },
      "text/plain": [
       "  0%|          | 0/30 [00:00<?, ?it/s]"
      ]
     },
     "metadata": {},
     "output_type": "display_data"
    },
    {
     "name": "stdout",
     "output_type": "stream",
     "text": [
      "Optimization finished!\n",
      "Took 8649.6510 seconds for training.\n"
     ]
    }
   ],
   "source": [
    "## Training the BPR model on our data\n",
    "with Timer() as t:\n",
    "    bpr.fit(train_set_rr)\n",
    "print(\"Took {} seconds for training.\".format(t))"
   ]
  },
  {
   "cell_type": "code",
   "execution_count": 35,
   "metadata": {
    "colab": {
     "base_uri": "https://localhost:8080/"
    },
    "executionInfo": {
     "elapsed": 12405,
     "status": "ok",
     "timestamp": 1670753087509,
     "user": {
      "displayName": "Preet Khowaja",
      "userId": "04600554328603896026"
     },
     "user_tz": -300
    },
    "id": "huISawAKi9GY",
    "outputId": "ae90dcdd-218d-432f-b736-e11ae00a62c0"
   },
   "outputs": [
    {
     "name": "stdout",
     "output_type": "stream",
     "text": [
      "Took 314.7045 seconds for prediction.\n"
     ]
    }
   ],
   "source": [
    "with Timer() as t:\n",
    "    all_predictions = predict_ranking(bpr, train_rr, usercol='userID', itemcol='itemID', remove_seen = False)\n",
    "print(\"Took {} seconds for prediction.\".format(t))"
   ]
  },
  {
   "cell_type": "code",
   "execution_count": 36,
   "metadata": {
    "colab": {
     "base_uri": "https://localhost:8080/",
     "height": 206
    },
    "executionInfo": {
     "elapsed": 28,
     "status": "ok",
     "timestamp": 1670753087510,
     "user": {
      "displayName": "Preet Khowaja",
      "userId": "04600554328603896026"
     },
     "user_tz": -300
    },
    "id": "8tr5Hiu1jDPo",
    "outputId": "bad65549-986d-42e4-cd14-739ca1e67a03"
   },
   "outputs": [
    {
     "data": {
      "text/html": [
       "<div>\n",
       "<style scoped>\n",
       "    .dataframe tbody tr th:only-of-type {\n",
       "        vertical-align: middle;\n",
       "    }\n",
       "\n",
       "    .dataframe tbody tr th {\n",
       "        vertical-align: top;\n",
       "    }\n",
       "\n",
       "    .dataframe thead th {\n",
       "        text-align: right;\n",
       "    }\n",
       "</style>\n",
       "<table border=\"1\" class=\"dataframe\">\n",
       "  <thead>\n",
       "    <tr style=\"text-align: right;\">\n",
       "      <th></th>\n",
       "      <th>userID</th>\n",
       "      <th>itemID</th>\n",
       "      <th>prediction</th>\n",
       "    </tr>\n",
       "  </thead>\n",
       "  <tbody>\n",
       "    <tr>\n",
       "      <th>0</th>\n",
       "      <td>980596</td>\n",
       "      <td>273762</td>\n",
       "      <td>0.062762</td>\n",
       "    </tr>\n",
       "    <tr>\n",
       "      <th>1</th>\n",
       "      <td>980596</td>\n",
       "      <td>29162</td>\n",
       "      <td>-0.108436</td>\n",
       "    </tr>\n",
       "    <tr>\n",
       "      <th>2</th>\n",
       "      <td>980596</td>\n",
       "      <td>134264</td>\n",
       "      <td>-0.086921</td>\n",
       "    </tr>\n",
       "    <tr>\n",
       "      <th>3</th>\n",
       "      <td>980596</td>\n",
       "      <td>268180</td>\n",
       "      <td>0.130931</td>\n",
       "    </tr>\n",
       "    <tr>\n",
       "      <th>4</th>\n",
       "      <td>980596</td>\n",
       "      <td>358211</td>\n",
       "      <td>0.035547</td>\n",
       "    </tr>\n",
       "  </tbody>\n",
       "</table>\n",
       "</div>"
      ],
      "text/plain": [
       "   userID  itemID  prediction\n",
       "0  980596  273762    0.062762\n",
       "1  980596   29162   -0.108436\n",
       "2  980596  134264   -0.086921\n",
       "3  980596  268180    0.130931\n",
       "4  980596  358211    0.035547"
      ]
     },
     "execution_count": 36,
     "metadata": {},
     "output_type": "execute_result"
    }
   ],
   "source": [
    "## Each user-item pairing is given a prediction \n",
    "## This is basically an item's rated value by the user and \n",
    "## a ranked item's list for the user\n",
    "all_predictions.head()"
   ]
  },
  {
   "cell_type": "code",
   "execution_count": 50,
   "metadata": {
    "colab": {
     "base_uri": "https://localhost:8080/"
    },
    "executionInfo": {
     "elapsed": 150231,
     "status": "ok",
     "timestamp": 1670753237720,
     "user": {
      "displayName": "Preet Khowaja",
      "userId": "04600554328603896026"
     },
     "user_tz": -300
    },
    "id": "3irNA9iYME2M",
    "outputId": "f52a42fc-ca85-4162-ffb6-ac63caa5ef84"
   },
   "outputs": [
    {
     "ename": "MemoryError",
     "evalue": "",
     "output_type": "error",
     "traceback": [
      "\u001b[0;31m---------------------------------------------------------------------------\u001b[0m",
      "\u001b[0;31mMemoryError\u001b[0m                               Traceback (most recent call last)",
      "\u001b[0;32m/tmp/ipykernel_8071/2761062583.py\u001b[0m in \u001b[0;36m<module>\u001b[0;34m\u001b[0m\n\u001b[1;32m      3\u001b[0m       \u001b[0mk\u001b[0m \u001b[0;34m=\u001b[0m \u001b[0;36m10\u001b[0m\u001b[0;34m\u001b[0m\u001b[0;34m\u001b[0m\u001b[0m\n\u001b[1;32m      4\u001b[0m       \u001b[0;31m## Mean Average Precision\u001b[0m\u001b[0;34m\u001b[0m\u001b[0;34m\u001b[0m\u001b[0m\n\u001b[0;32m----> 5\u001b[0;31m       \u001b[0meval_map\u001b[0m \u001b[0;34m=\u001b[0m \u001b[0mmap_at_k\u001b[0m\u001b[0;34m(\u001b[0m\u001b[0mtest_rr\u001b[0m\u001b[0;34m,\u001b[0m \u001b[0mall_predictions\u001b[0m\u001b[0;34m,\u001b[0m \u001b[0mcol_prediction\u001b[0m\u001b[0;34m=\u001b[0m\u001b[0;34m'prediction'\u001b[0m\u001b[0;34m,\u001b[0m \u001b[0mk\u001b[0m\u001b[0;34m=\u001b[0m\u001b[0mk\u001b[0m\u001b[0;34m)\u001b[0m\u001b[0;34m\u001b[0m\u001b[0;34m\u001b[0m\u001b[0m\n\u001b[0m\u001b[1;32m      6\u001b[0m       \u001b[0;31m## NDCG\u001b[0m\u001b[0;34m\u001b[0m\u001b[0;34m\u001b[0m\u001b[0m\n\u001b[1;32m      7\u001b[0m       \u001b[0meval_ndcg\u001b[0m \u001b[0;34m=\u001b[0m \u001b[0mndcg_at_k\u001b[0m\u001b[0;34m(\u001b[0m\u001b[0mtest_rr\u001b[0m\u001b[0;34m,\u001b[0m \u001b[0mall_predictions\u001b[0m\u001b[0;34m,\u001b[0m \u001b[0mcol_prediction\u001b[0m\u001b[0;34m=\u001b[0m\u001b[0;34m'prediction'\u001b[0m\u001b[0;34m,\u001b[0m \u001b[0mk\u001b[0m\u001b[0;34m=\u001b[0m\u001b[0mk\u001b[0m\u001b[0;34m)\u001b[0m\u001b[0;34m\u001b[0m\u001b[0;34m\u001b[0m\u001b[0m\n",
      "\u001b[0;32m/opt/conda/lib/python3.9/site-packages/recommenders/evaluation/python_evaluation.py\u001b[0m in \u001b[0;36mmap_at_k\u001b[0;34m(rating_true, rating_pred, col_user, col_item, col_rating, col_prediction, relevancy_method, k, threshold)\u001b[0m\n\u001b[1;32m    622\u001b[0m     \"\"\"\n\u001b[1;32m    623\u001b[0m \u001b[0;34m\u001b[0m\u001b[0m\n\u001b[0;32m--> 624\u001b[0;31m     df_hit, df_hit_count, n_users = merge_ranking_true_pred(\n\u001b[0m\u001b[1;32m    625\u001b[0m         \u001b[0mrating_true\u001b[0m\u001b[0;34m=\u001b[0m\u001b[0mrating_true\u001b[0m\u001b[0;34m,\u001b[0m\u001b[0;34m\u001b[0m\u001b[0;34m\u001b[0m\u001b[0m\n\u001b[1;32m    626\u001b[0m         \u001b[0mrating_pred\u001b[0m\u001b[0;34m=\u001b[0m\u001b[0mrating_pred\u001b[0m\u001b[0;34m,\u001b[0m\u001b[0;34m\u001b[0m\u001b[0;34m\u001b[0m\u001b[0m\n",
      "\u001b[0;32m/opt/conda/lib/python3.9/site-packages/recommenders/evaluation/python_evaluation.py\u001b[0m in \u001b[0;36mcheck_column_dtypes_wrapper\u001b[0;34m(rating_true, rating_pred, col_user, col_item, col_rating, col_prediction, *args, **kwargs)\u001b[0m\n\u001b[1;32m     79\u001b[0m             \u001b[0;32mraise\u001b[0m \u001b[0mValueError\u001b[0m\u001b[0;34m(\u001b[0m\u001b[0;34m\"Columns in provided DataFrames are not the same datatype\"\u001b[0m\u001b[0;34m)\u001b[0m\u001b[0;34m\u001b[0m\u001b[0;34m\u001b[0m\u001b[0m\n\u001b[1;32m     80\u001b[0m \u001b[0;34m\u001b[0m\u001b[0m\n\u001b[0;32m---> 81\u001b[0;31m         return func(\n\u001b[0m\u001b[1;32m     82\u001b[0m             \u001b[0mrating_true\u001b[0m\u001b[0;34m=\u001b[0m\u001b[0mrating_true\u001b[0m\u001b[0;34m,\u001b[0m\u001b[0;34m\u001b[0m\u001b[0;34m\u001b[0m\u001b[0m\n\u001b[1;32m     83\u001b[0m             \u001b[0mrating_pred\u001b[0m\u001b[0;34m=\u001b[0m\u001b[0mrating_pred\u001b[0m\u001b[0;34m,\u001b[0m\u001b[0;34m\u001b[0m\u001b[0;34m\u001b[0m\u001b[0m\n",
      "\u001b[0;32m/opt/conda/lib/python3.9/site-packages/recommenders/datasets/pandas_df_utils.py\u001b[0m in \u001b[0;36mwrapper\u001b[0;34m(*args, **kwargs)\u001b[0m\n\u001b[1;32m    481\u001b[0m             \u001b[0margs\u001b[0m \u001b[0;34m=\u001b[0m \u001b[0mtuple\u001b[0m\u001b[0;34m(\u001b[0m\u001b[0;34m[\u001b[0m\u001b[0mto_pandas_hash\u001b[0m\u001b[0;34m(\u001b[0m\u001b[0ma\u001b[0m\u001b[0;34m)\u001b[0m \u001b[0;32mfor\u001b[0m \u001b[0ma\u001b[0m \u001b[0;32min\u001b[0m \u001b[0margs\u001b[0m\u001b[0;34m]\u001b[0m\u001b[0;34m)\u001b[0m\u001b[0;34m\u001b[0m\u001b[0;34m\u001b[0m\u001b[0m\n\u001b[1;32m    482\u001b[0m             \u001b[0mkwargs\u001b[0m \u001b[0;34m=\u001b[0m \u001b[0;34m{\u001b[0m\u001b[0mk\u001b[0m\u001b[0;34m:\u001b[0m \u001b[0mto_pandas_hash\u001b[0m\u001b[0;34m(\u001b[0m\u001b[0mv\u001b[0m\u001b[0;34m)\u001b[0m \u001b[0;32mfor\u001b[0m \u001b[0mk\u001b[0m\u001b[0;34m,\u001b[0m \u001b[0mv\u001b[0m \u001b[0;32min\u001b[0m \u001b[0mkwargs\u001b[0m\u001b[0;34m.\u001b[0m\u001b[0mitems\u001b[0m\u001b[0;34m(\u001b[0m\u001b[0;34m)\u001b[0m\u001b[0;34m}\u001b[0m\u001b[0;34m\u001b[0m\u001b[0;34m\u001b[0m\u001b[0m\n\u001b[0;32m--> 483\u001b[0;31m             \u001b[0;32mreturn\u001b[0m \u001b[0mcached_wrapper\u001b[0m\u001b[0;34m(\u001b[0m\u001b[0;34m*\u001b[0m\u001b[0margs\u001b[0m\u001b[0;34m,\u001b[0m \u001b[0;34m**\u001b[0m\u001b[0mkwargs\u001b[0m\u001b[0;34m)\u001b[0m\u001b[0;34m\u001b[0m\u001b[0;34m\u001b[0m\u001b[0m\n\u001b[0m\u001b[1;32m    484\u001b[0m \u001b[0;34m\u001b[0m\u001b[0m\n\u001b[1;32m    485\u001b[0m         \u001b[0;34m@\u001b[0m\u001b[0mlru_cache\u001b[0m\u001b[0;34m(\u001b[0m\u001b[0mmaxsize\u001b[0m\u001b[0;34m=\u001b[0m\u001b[0mmaxsize\u001b[0m\u001b[0;34m,\u001b[0m \u001b[0mtyped\u001b[0m\u001b[0;34m=\u001b[0m\u001b[0mtyped\u001b[0m\u001b[0;34m)\u001b[0m\u001b[0;34m\u001b[0m\u001b[0;34m\u001b[0m\u001b[0m\n",
      "\u001b[0;32m/opt/conda/lib/python3.9/site-packages/recommenders/datasets/pandas_df_utils.py\u001b[0m in \u001b[0;36m__hash__\u001b[0;34m(self)\u001b[0m\n\u001b[1;32m    446\u001b[0m         \"\"\"\n\u001b[1;32m    447\u001b[0m \u001b[0;34m\u001b[0m\u001b[0m\n\u001b[0;32m--> 448\u001b[0;31m         \u001b[0mhashable\u001b[0m \u001b[0;34m=\u001b[0m \u001b[0mtuple\u001b[0m\u001b[0;34m(\u001b[0m\u001b[0mself\u001b[0m\u001b[0;34m.\u001b[0m\u001b[0mpandas_object\u001b[0m\u001b[0;34m.\u001b[0m\u001b[0mvalues\u001b[0m\u001b[0;34m.\u001b[0m\u001b[0mtobytes\u001b[0m\u001b[0;34m(\u001b[0m\u001b[0;34m)\u001b[0m\u001b[0;34m)\u001b[0m\u001b[0;34m\u001b[0m\u001b[0;34m\u001b[0m\u001b[0m\n\u001b[0m\u001b[1;32m    449\u001b[0m         \u001b[0;32mif\u001b[0m \u001b[0misinstance\u001b[0m\u001b[0;34m(\u001b[0m\u001b[0mself\u001b[0m\u001b[0;34m.\u001b[0m\u001b[0mpandas_object\u001b[0m\u001b[0;34m,\u001b[0m \u001b[0mpd\u001b[0m\u001b[0;34m.\u001b[0m\u001b[0mDataFrame\u001b[0m\u001b[0;34m)\u001b[0m\u001b[0;34m:\u001b[0m\u001b[0;34m\u001b[0m\u001b[0;34m\u001b[0m\u001b[0m\n\u001b[1;32m    450\u001b[0m             \u001b[0mhashable\u001b[0m \u001b[0;34m+=\u001b[0m \u001b[0mtuple\u001b[0m\u001b[0;34m(\u001b[0m\u001b[0mself\u001b[0m\u001b[0;34m.\u001b[0m\u001b[0mpandas_object\u001b[0m\u001b[0;34m.\u001b[0m\u001b[0mcolumns\u001b[0m\u001b[0;34m)\u001b[0m\u001b[0;34m\u001b[0m\u001b[0;34m\u001b[0m\u001b[0m\n",
      "\u001b[0;31mMemoryError\u001b[0m: "
     ]
    }
   ],
   "source": [
    "with Timer() as t:\n",
    "      ## For top 5 recommendations here are the computed evaluation metrics:\n",
    "      k = 10\n",
    "      ## Mean Average Precision\n",
    "      eval_map = map_at_k(test_rr, all_predictions, col_prediction='prediction', k=k)\n",
    "      ## NDCG\n",
    "      eval_ndcg = ndcg_at_k(test_rr, all_predictions, col_prediction='prediction', k=k)\n",
    "      ## Precision\n",
    "      eval_precision = precision_at_k(test_rr, all_predictions, col_prediction='prediction', k=k)\n",
    "      ## Recall\n",
    "      eval_recall = recall_at_k(test_rr, all_predictions, col_prediction='prediction', k=k)\n",
    "\n",
    "      print(\"MAP:\\t%f\" % eval_map\n",
    "      ,\n",
    "            \"NDCG:\\t%f\" % eval_ndcg,\n",
    "            \"Precision@K:\\t%f\" % eval_precision,\n",
    "            \"Recall@K:\\t%f\" % eval_recall, sep='\\n'\n",
    "      )\n",
    "\n",
    "print(\"Took {} seconds for evaluation.\".format(t))"
   ]
  },
  {
   "cell_type": "code",
   "execution_count": 39,
   "metadata": {},
   "outputs": [
    {
     "name": "stdout",
     "output_type": "stream",
     "text": [
      "BPR model is saved to bpr_1pct/BPR/2022-12-12_14-46-42-219642.pkl\n"
     ]
    },
    {
     "data": {
      "text/plain": [
       "'bpr_1pct/BPR/2022-12-12_14-46-42-219642.pkl'"
      ]
     },
     "execution_count": 39,
     "metadata": {},
     "output_type": "execute_result"
    }
   ],
   "source": [
    "# save model to disk\n",
    "bpr.save(\"bpr_1pct\")"
   ]
  },
  {
   "cell_type": "markdown",
   "metadata": {
    "id": "8RH3psDJyZnJ"
   },
   "source": [
    "# **References**\n",
    "\n",
    "1. Microsoft Recommenders, BPR Deep Dive\n",
    "https://github.com/microsoft/recommenders/blob/main/examples/02_model_collaborative_filtering/cornac_bpr_deep_dive.ipynb\n",
    "\n",
    "2. Microsoft Recommenders Preparing Data\n",
    "https://github.com/microsoft/recommenders/blob/main/examples/01_prepare_data/data_transform.ipynb\n",
    "\n",
    "3. Aghiles Salah, Quoc-Tuan Truong, Hady W. Lauw; *\\\"Cornac: A Comparative Framework for Multimodal\n",
    "Recommender Systems* ; Journal of Machine Learning Research 2021 (2020) 1-5. \n",
    "https://dl.acm.org/doi/pdf/10.5555/3455716.3455811\n",
    "\n",
    "4. https://arxiv.org/ftp/arxiv/papers/1205/1205.2618.pdf "
   ]
  },
  {
   "cell_type": "code",
   "execution_count": 43,
   "metadata": {},
   "outputs": [],
   "source": [
    "## Initiating a BPR model \n",
    "bpr2 = cornac.models.BPR(\n",
    "    k=20,\n",
    "    max_iter=30,\n",
    "    learning_rate=0.01,\n",
    "    lambda_reg=0.001,\n",
    "    verbose=True,\n",
    "    seed=43\n",
    ")"
   ]
  },
  {
   "cell_type": "code",
   "execution_count": 47,
   "metadata": {},
   "outputs": [
    {
     "data": {
      "text/plain": [
       "<cornac.models.bpr.recom_bpr.BPR at 0x7f68a207efd0>"
      ]
     },
     "execution_count": 47,
     "metadata": {},
     "output_type": "execute_result"
    }
   ],
   "source": [
    "bpr2.load(\"bpr_1pct/BPR/2022-12-12_14-46-42-219642.pkl\")"
   ]
  },
  {
   "cell_type": "code",
   "execution_count": 49,
   "metadata": {},
   "outputs": [
    {
     "ename": "AttributeError",
     "evalue": "'NoneType' object has no attribute 'iid_map'",
     "output_type": "error",
     "traceback": [
      "\u001b[0;31m---------------------------------------------------------------------------\u001b[0m",
      "\u001b[0;31mAttributeError\u001b[0m                            Traceback (most recent call last)",
      "\u001b[0;32m/tmp/ipykernel_8071/3422010620.py\u001b[0m in \u001b[0;36m<module>\u001b[0;34m\u001b[0m\n\u001b[1;32m      1\u001b[0m \u001b[0;32mwith\u001b[0m \u001b[0mTimer\u001b[0m\u001b[0;34m(\u001b[0m\u001b[0;34m)\u001b[0m \u001b[0;32mas\u001b[0m \u001b[0mt\u001b[0m\u001b[0;34m:\u001b[0m\u001b[0;34m\u001b[0m\u001b[0;34m\u001b[0m\u001b[0m\n\u001b[0;32m----> 2\u001b[0;31m     \u001b[0mall_predictions\u001b[0m \u001b[0;34m=\u001b[0m \u001b[0mpredict_ranking\u001b[0m\u001b[0;34m(\u001b[0m\u001b[0mbpr2\u001b[0m\u001b[0;34m,\u001b[0m \u001b[0mtrain_rr\u001b[0m\u001b[0;34m,\u001b[0m \u001b[0musercol\u001b[0m\u001b[0;34m=\u001b[0m\u001b[0;34m'userID'\u001b[0m\u001b[0;34m,\u001b[0m \u001b[0mitemcol\u001b[0m\u001b[0;34m=\u001b[0m\u001b[0;34m'itemID'\u001b[0m\u001b[0;34m,\u001b[0m \u001b[0mremove_seen\u001b[0m \u001b[0;34m=\u001b[0m \u001b[0;32mFalse\u001b[0m\u001b[0;34m)\u001b[0m\u001b[0;34m\u001b[0m\u001b[0;34m\u001b[0m\u001b[0m\n\u001b[0m\u001b[1;32m      3\u001b[0m \u001b[0mprint\u001b[0m\u001b[0;34m(\u001b[0m\u001b[0;34m\"Took {} seconds for prediction.\"\u001b[0m\u001b[0;34m.\u001b[0m\u001b[0mformat\u001b[0m\u001b[0;34m(\u001b[0m\u001b[0mt\u001b[0m\u001b[0;34m)\u001b[0m\u001b[0;34m)\u001b[0m\u001b[0;34m\u001b[0m\u001b[0;34m\u001b[0m\u001b[0m\n",
      "\u001b[0;32m/opt/conda/lib/python3.9/site-packages/recommenders/models/cornac/cornac_utils.py\u001b[0m in \u001b[0;36mpredict_ranking\u001b[0;34m(model, data, usercol, itemcol, predcol, remove_seen)\u001b[0m\n\u001b[1;32m     70\u001b[0m     \"\"\"\n\u001b[1;32m     71\u001b[0m     \u001b[0musers\u001b[0m\u001b[0;34m,\u001b[0m \u001b[0mitems\u001b[0m\u001b[0;34m,\u001b[0m \u001b[0mpreds\u001b[0m \u001b[0;34m=\u001b[0m \u001b[0;34m[\u001b[0m\u001b[0;34m]\u001b[0m\u001b[0;34m,\u001b[0m \u001b[0;34m[\u001b[0m\u001b[0;34m]\u001b[0m\u001b[0;34m,\u001b[0m \u001b[0;34m[\u001b[0m\u001b[0;34m]\u001b[0m\u001b[0;34m\u001b[0m\u001b[0;34m\u001b[0m\u001b[0m\n\u001b[0;32m---> 72\u001b[0;31m     \u001b[0mitem\u001b[0m \u001b[0;34m=\u001b[0m \u001b[0mlist\u001b[0m\u001b[0;34m(\u001b[0m\u001b[0mmodel\u001b[0m\u001b[0;34m.\u001b[0m\u001b[0mtrain_set\u001b[0m\u001b[0;34m.\u001b[0m\u001b[0miid_map\u001b[0m\u001b[0;34m.\u001b[0m\u001b[0mkeys\u001b[0m\u001b[0;34m(\u001b[0m\u001b[0;34m)\u001b[0m\u001b[0;34m)\u001b[0m\u001b[0;34m\u001b[0m\u001b[0;34m\u001b[0m\u001b[0m\n\u001b[0m\u001b[1;32m     73\u001b[0m     \u001b[0;32mfor\u001b[0m \u001b[0muid\u001b[0m\u001b[0;34m,\u001b[0m \u001b[0muser_idx\u001b[0m \u001b[0;32min\u001b[0m \u001b[0mmodel\u001b[0m\u001b[0;34m.\u001b[0m\u001b[0mtrain_set\u001b[0m\u001b[0;34m.\u001b[0m\u001b[0muid_map\u001b[0m\u001b[0;34m.\u001b[0m\u001b[0mitems\u001b[0m\u001b[0;34m(\u001b[0m\u001b[0;34m)\u001b[0m\u001b[0;34m:\u001b[0m\u001b[0;34m\u001b[0m\u001b[0;34m\u001b[0m\u001b[0m\n\u001b[1;32m     74\u001b[0m         \u001b[0muser\u001b[0m \u001b[0;34m=\u001b[0m \u001b[0;34m[\u001b[0m\u001b[0muid\u001b[0m\u001b[0;34m]\u001b[0m \u001b[0;34m*\u001b[0m \u001b[0mlen\u001b[0m\u001b[0;34m(\u001b[0m\u001b[0mitem\u001b[0m\u001b[0;34m)\u001b[0m\u001b[0;34m\u001b[0m\u001b[0;34m\u001b[0m\u001b[0m\n",
      "\u001b[0;31mAttributeError\u001b[0m: 'NoneType' object has no attribute 'iid_map'"
     ]
    }
   ],
   "source": [
    "with Timer() as t:\n",
    "    all_predictions = predict_ranking(bpr2, train_rr, usercol='userID', itemcol='itemID', remove_seen = False)\n",
    "print(\"Took {} seconds for prediction.\".format(t))"
   ]
  },
  {
   "cell_type": "code",
   "execution_count": null,
   "metadata": {},
   "outputs": [],
   "source": []
  }
 ],
 "metadata": {
  "accelerator": "GPU",
  "colab": {
   "authorship_tag": "ABX9TyPKzSZ+crg19nq3zYma49tr",
   "machine_shape": "hm",
   "mount_file_id": "1o7tpcjc923SlXCBH0oXLEHmBvX2yom_0",
   "provenance": [
    {
     "file_id": "1BNyDQxZlzN95YvEmt7hJuEwmOXsA_ujf",
     "timestamp": 1670152943490
    }
   ]
  },
  "gpuClass": "standard",
  "kernelspec": {
   "display_name": "Python 3 (ipykernel)",
   "language": "python",
   "name": "python3"
  },
  "language_info": {
   "codemirror_mode": {
    "name": "ipython",
    "version": 3
   },
   "file_extension": ".py",
   "mimetype": "text/x-python",
   "name": "python",
   "nbconvert_exporter": "python",
   "pygments_lexer": "ipython3",
   "version": "3.9.7"
  },
  "vscode": {
   "interpreter": {
    "hash": "392940e632e2169894237213b912f5d2e3bbd9606ac54fbd3fa76f97bf86cab0"
   }
  },
  "widgets": {
   "application/vnd.jupyter.widget-state+json": {
    "04409bf2bfb74298bf0ba1d66d5101db": {
     "model_module": "@jupyter-widgets/controls",
     "model_module_version": "1.5.0",
     "model_name": "HBoxModel",
     "state": {
      "_dom_classes": [],
      "_model_module": "@jupyter-widgets/controls",
      "_model_module_version": "1.5.0",
      "_model_name": "HBoxModel",
      "_view_count": null,
      "_view_module": "@jupyter-widgets/controls",
      "_view_module_version": "1.5.0",
      "_view_name": "HBoxView",
      "box_style": "",
      "children": [
       "IPY_MODEL_6cebbbd4a7b1404a81046df509e41ba5",
       "IPY_MODEL_0b865744fe124a929ef5225c2ca5213d",
       "IPY_MODEL_75e9e1aaf04e43a3a21c2fd3cae4be62"
      ],
      "layout": "IPY_MODEL_f633bd90aebf483d92bb42b618c59977"
     }
    },
    "0b865744fe124a929ef5225c2ca5213d": {
     "model_module": "@jupyter-widgets/controls",
     "model_module_version": "1.5.0",
     "model_name": "FloatProgressModel",
     "state": {
      "_dom_classes": [],
      "_model_module": "@jupyter-widgets/controls",
      "_model_module_version": "1.5.0",
      "_model_name": "FloatProgressModel",
      "_view_count": null,
      "_view_module": "@jupyter-widgets/controls",
      "_view_module_version": "1.5.0",
      "_view_name": "ProgressView",
      "bar_style": "success",
      "description": "",
      "description_tooltip": null,
      "layout": "IPY_MODEL_c9397b526c4d4b5bb2fcca57b0b76db8",
      "max": 30,
      "min": 0,
      "orientation": "horizontal",
      "style": "IPY_MODEL_dba779a98fda461e9b54f3fc248b2697",
      "value": 30
     }
    },
    "6cebbbd4a7b1404a81046df509e41ba5": {
     "model_module": "@jupyter-widgets/controls",
     "model_module_version": "1.5.0",
     "model_name": "HTMLModel",
     "state": {
      "_dom_classes": [],
      "_model_module": "@jupyter-widgets/controls",
      "_model_module_version": "1.5.0",
      "_model_name": "HTMLModel",
      "_view_count": null,
      "_view_module": "@jupyter-widgets/controls",
      "_view_module_version": "1.5.0",
      "_view_name": "HTMLView",
      "description": "",
      "description_tooltip": null,
      "layout": "IPY_MODEL_bb016e6415984d708f03a22a72b54a61",
      "placeholder": "​",
      "style": "IPY_MODEL_c868bd7afaeb4574a2183be9c5881586",
      "value": "100%"
     }
    },
    "75e9e1aaf04e43a3a21c2fd3cae4be62": {
     "model_module": "@jupyter-widgets/controls",
     "model_module_version": "1.5.0",
     "model_name": "HTMLModel",
     "state": {
      "_dom_classes": [],
      "_model_module": "@jupyter-widgets/controls",
      "_model_module_version": "1.5.0",
      "_model_name": "HTMLModel",
      "_view_count": null,
      "_view_module": "@jupyter-widgets/controls",
      "_view_module_version": "1.5.0",
      "_view_name": "HTMLView",
      "description": "",
      "description_tooltip": null,
      "layout": "IPY_MODEL_a5c4fd67d55941d7ae5aa0a0e4303488",
      "placeholder": "​",
      "style": "IPY_MODEL_9404d4c68be540bd85d41e16add02c75",
      "value": " 30/30 [04:05&lt;00:00,  8.15s/it, correct=57.49%, skipped=80.00%]"
     }
    },
    "9404d4c68be540bd85d41e16add02c75": {
     "model_module": "@jupyter-widgets/controls",
     "model_module_version": "1.5.0",
     "model_name": "DescriptionStyleModel",
     "state": {
      "_model_module": "@jupyter-widgets/controls",
      "_model_module_version": "1.5.0",
      "_model_name": "DescriptionStyleModel",
      "_view_count": null,
      "_view_module": "@jupyter-widgets/base",
      "_view_module_version": "1.2.0",
      "_view_name": "StyleView",
      "description_width": ""
     }
    },
    "a5c4fd67d55941d7ae5aa0a0e4303488": {
     "model_module": "@jupyter-widgets/base",
     "model_module_version": "1.2.0",
     "model_name": "LayoutModel",
     "state": {
      "_model_module": "@jupyter-widgets/base",
      "_model_module_version": "1.2.0",
      "_model_name": "LayoutModel",
      "_view_count": null,
      "_view_module": "@jupyter-widgets/base",
      "_view_module_version": "1.2.0",
      "_view_name": "LayoutView",
      "align_content": null,
      "align_items": null,
      "align_self": null,
      "border": null,
      "bottom": null,
      "display": null,
      "flex": null,
      "flex_flow": null,
      "grid_area": null,
      "grid_auto_columns": null,
      "grid_auto_flow": null,
      "grid_auto_rows": null,
      "grid_column": null,
      "grid_gap": null,
      "grid_row": null,
      "grid_template_areas": null,
      "grid_template_columns": null,
      "grid_template_rows": null,
      "height": null,
      "justify_content": null,
      "justify_items": null,
      "left": null,
      "margin": null,
      "max_height": null,
      "max_width": null,
      "min_height": null,
      "min_width": null,
      "object_fit": null,
      "object_position": null,
      "order": null,
      "overflow": null,
      "overflow_x": null,
      "overflow_y": null,
      "padding": null,
      "right": null,
      "top": null,
      "visibility": null,
      "width": null
     }
    },
    "bb016e6415984d708f03a22a72b54a61": {
     "model_module": "@jupyter-widgets/base",
     "model_module_version": "1.2.0",
     "model_name": "LayoutModel",
     "state": {
      "_model_module": "@jupyter-widgets/base",
      "_model_module_version": "1.2.0",
      "_model_name": "LayoutModel",
      "_view_count": null,
      "_view_module": "@jupyter-widgets/base",
      "_view_module_version": "1.2.0",
      "_view_name": "LayoutView",
      "align_content": null,
      "align_items": null,
      "align_self": null,
      "border": null,
      "bottom": null,
      "display": null,
      "flex": null,
      "flex_flow": null,
      "grid_area": null,
      "grid_auto_columns": null,
      "grid_auto_flow": null,
      "grid_auto_rows": null,
      "grid_column": null,
      "grid_gap": null,
      "grid_row": null,
      "grid_template_areas": null,
      "grid_template_columns": null,
      "grid_template_rows": null,
      "height": null,
      "justify_content": null,
      "justify_items": null,
      "left": null,
      "margin": null,
      "max_height": null,
      "max_width": null,
      "min_height": null,
      "min_width": null,
      "object_fit": null,
      "object_position": null,
      "order": null,
      "overflow": null,
      "overflow_x": null,
      "overflow_y": null,
      "padding": null,
      "right": null,
      "top": null,
      "visibility": null,
      "width": null
     }
    },
    "c868bd7afaeb4574a2183be9c5881586": {
     "model_module": "@jupyter-widgets/controls",
     "model_module_version": "1.5.0",
     "model_name": "DescriptionStyleModel",
     "state": {
      "_model_module": "@jupyter-widgets/controls",
      "_model_module_version": "1.5.0",
      "_model_name": "DescriptionStyleModel",
      "_view_count": null,
      "_view_module": "@jupyter-widgets/base",
      "_view_module_version": "1.2.0",
      "_view_name": "StyleView",
      "description_width": ""
     }
    },
    "c9397b526c4d4b5bb2fcca57b0b76db8": {
     "model_module": "@jupyter-widgets/base",
     "model_module_version": "1.2.0",
     "model_name": "LayoutModel",
     "state": {
      "_model_module": "@jupyter-widgets/base",
      "_model_module_version": "1.2.0",
      "_model_name": "LayoutModel",
      "_view_count": null,
      "_view_module": "@jupyter-widgets/base",
      "_view_module_version": "1.2.0",
      "_view_name": "LayoutView",
      "align_content": null,
      "align_items": null,
      "align_self": null,
      "border": null,
      "bottom": null,
      "display": null,
      "flex": null,
      "flex_flow": null,
      "grid_area": null,
      "grid_auto_columns": null,
      "grid_auto_flow": null,
      "grid_auto_rows": null,
      "grid_column": null,
      "grid_gap": null,
      "grid_row": null,
      "grid_template_areas": null,
      "grid_template_columns": null,
      "grid_template_rows": null,
      "height": null,
      "justify_content": null,
      "justify_items": null,
      "left": null,
      "margin": null,
      "max_height": null,
      "max_width": null,
      "min_height": null,
      "min_width": null,
      "object_fit": null,
      "object_position": null,
      "order": null,
      "overflow": null,
      "overflow_x": null,
      "overflow_y": null,
      "padding": null,
      "right": null,
      "top": null,
      "visibility": null,
      "width": null
     }
    },
    "dba779a98fda461e9b54f3fc248b2697": {
     "model_module": "@jupyter-widgets/controls",
     "model_module_version": "1.5.0",
     "model_name": "ProgressStyleModel",
     "state": {
      "_model_module": "@jupyter-widgets/controls",
      "_model_module_version": "1.5.0",
      "_model_name": "ProgressStyleModel",
      "_view_count": null,
      "_view_module": "@jupyter-widgets/base",
      "_view_module_version": "1.2.0",
      "_view_name": "StyleView",
      "bar_color": null,
      "description_width": ""
     }
    },
    "f633bd90aebf483d92bb42b618c59977": {
     "model_module": "@jupyter-widgets/base",
     "model_module_version": "1.2.0",
     "model_name": "LayoutModel",
     "state": {
      "_model_module": "@jupyter-widgets/base",
      "_model_module_version": "1.2.0",
      "_model_name": "LayoutModel",
      "_view_count": null,
      "_view_module": "@jupyter-widgets/base",
      "_view_module_version": "1.2.0",
      "_view_name": "LayoutView",
      "align_content": null,
      "align_items": null,
      "align_self": null,
      "border": null,
      "bottom": null,
      "display": null,
      "flex": null,
      "flex_flow": null,
      "grid_area": null,
      "grid_auto_columns": null,
      "grid_auto_flow": null,
      "grid_auto_rows": null,
      "grid_column": null,
      "grid_gap": null,
      "grid_row": null,
      "grid_template_areas": null,
      "grid_template_columns": null,
      "grid_template_rows": null,
      "height": null,
      "justify_content": null,
      "justify_items": null,
      "left": null,
      "margin": null,
      "max_height": null,
      "max_width": null,
      "min_height": null,
      "min_width": null,
      "object_fit": null,
      "object_position": null,
      "order": null,
      "overflow": null,
      "overflow_x": null,
      "overflow_y": null,
      "padding": null,
      "right": null,
      "top": null,
      "visibility": null,
      "width": null
     }
    }
   }
  }
 },
 "nbformat": 4,
 "nbformat_minor": 4
}
