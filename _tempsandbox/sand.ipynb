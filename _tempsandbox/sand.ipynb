{
 "cells": [
  {
   "cell_type": "code",
   "execution_count": 1,
   "metadata": {},
   "outputs": [],
   "source": [
    "!pip install -q kaggle"
   ]
  },
  {
   "cell_type": "code",
   "execution_count": 1,
   "metadata": {},
   "outputs": [
    {
     "name": "stdout",
     "output_type": "stream",
     "text": [
      "\u001b[33mWARNING: Retrying (Retry(total=4, connect=None, read=None, redirect=None, status=None)) after connection broken by 'ReadTimeoutError(\"HTTPSConnectionPool(host='pypi.org', port=443): Read timed out. (read timeout=15)\")': /simple/trfl/\u001b[0m\u001b[33m\n",
      "\u001b[0mCollecting trfl\n",
      "  Downloading trfl-1.2.0-py3-none-any.whl (104 kB)\n",
      "\u001b[2K     \u001b[90m━━━━━━━━━━━━━━━━━━━━━━━━━━━━━━━━━━━━━━\u001b[0m \u001b[32m104.3/104.3 kB\u001b[0m \u001b[31m17.9 kB/s\u001b[0m eta \u001b[36m0:00:00\u001b[0ma \u001b[36m0:00:01\u001b[0m\n",
      "\u001b[?25hCollecting dm-tree\n",
      "  Using cached dm_tree-0.1.7-cp39-cp39-macosx_11_0_arm64.whl (105 kB)\n",
      "Requirement already satisfied: numpy in /Users/annadai/miniforge3/envs/aipi/lib/python3.9/site-packages (from trfl) (1.23.4)\n",
      "Collecting wrapt\n",
      "  Downloading wrapt-1.14.1-cp39-cp39-macosx_11_0_arm64.whl (35 kB)\n",
      "Requirement already satisfied: six in /Users/annadai/miniforge3/envs/aipi/lib/python3.9/site-packages (from trfl) (1.16.0)\n",
      "Collecting absl-py\n",
      "  Downloading absl_py-1.3.0-py3-none-any.whl (124 kB)\n",
      "\u001b[2K     \u001b[90m━━━━━━━━━━━━━━━━━━━━━━━━━━━━━━━━━━━━━━\u001b[0m \u001b[32m124.6/124.6 kB\u001b[0m \u001b[31m13.0 kB/s\u001b[0m eta \u001b[36m0:00:00\u001b[0ma \u001b[36m0:00:01\u001b[0m\n",
      "\u001b[?25hInstalling collected packages: dm-tree, wrapt, absl-py, trfl\n",
      "Successfully installed absl-py-1.3.0 dm-tree-0.1.7 trfl-1.2.0 wrapt-1.14.1\n"
     ]
    }
   ],
   "source": [
    "!pip install trfl"
   ]
  },
  {
   "cell_type": "code",
   "execution_count": null,
   "metadata": {},
   "outputs": [],
   "source": []
  }
 ],
 "metadata": {
  "kernelspec": {
   "display_name": "Python 3.9.13 ('aipi')",
   "language": "python",
   "name": "python3"
  },
  "language_info": {
   "codemirror_mode": {
    "name": "ipython",
    "version": 3
   },
   "file_extension": ".py",
   "mimetype": "text/x-python",
   "name": "python",
   "nbconvert_exporter": "python",
   "pygments_lexer": "ipython3",
   "version": "3.9.13"
  },
  "orig_nbformat": 4,
  "vscode": {
   "interpreter": {
    "hash": "a96618c088bd647dbfc11650d21d14189727fad8d361003a43490a77ff328b15"
   }
  }
 },
 "nbformat": 4,
 "nbformat_minor": 2
}
